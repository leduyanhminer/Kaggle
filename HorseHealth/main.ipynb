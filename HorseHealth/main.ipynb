{
 "cells": [
  {
   "cell_type": "code",
   "execution_count": 1,
   "metadata": {},
   "outputs": [],
   "source": [
    "import torch\n",
    "import torch.nn as nn\n",
    "import pandas as pd \n",
    "import matplotlib.pyplot as plt\n",
    "import numpy as np\n",
    "from datetime import  datetime\n",
    "\n",
    "from sklearn.preprocessing import OneHotEncoder, LabelEncoder, RobustScaler\n",
    "from sklearn.model_selection import  train_test_split\n",
    "from sklearn.metrics import  f1_score\n",
    "from torch.utils.data import  Dataset"
   ]
  },
  {
   "cell_type": "code",
   "execution_count": 2,
   "metadata": {},
   "outputs": [],
   "source": [
    "TRAIN_PATH = 'dataset/train.csv'\n",
    "TEST_PATH = 'dataset/test.csv'\n",
    "# PRETRAINED = r'D:\\Kaggle\\HorseHealth\\models\\horse_health_model_03_11_2023.pth'\n",
    "PRETRAINED = ''"
   ]
  },
  {
   "cell_type": "code",
   "execution_count": 3,
   "metadata": {},
   "outputs": [
    {
     "data": {
      "text/html": [
       "<div>\n",
       "<style scoped>\n",
       "    .dataframe tbody tr th:only-of-type {\n",
       "        vertical-align: middle;\n",
       "    }\n",
       "\n",
       "    .dataframe tbody tr th {\n",
       "        vertical-align: top;\n",
       "    }\n",
       "\n",
       "    .dataframe thead th {\n",
       "        text-align: right;\n",
       "    }\n",
       "</style>\n",
       "<table border=\"1\" class=\"dataframe\">\n",
       "  <thead>\n",
       "    <tr style=\"text-align: right;\">\n",
       "      <th></th>\n",
       "      <th>surgery</th>\n",
       "      <th>age</th>\n",
       "      <th>hospital_number</th>\n",
       "      <th>rectal_temp</th>\n",
       "      <th>pulse</th>\n",
       "      <th>respiratory_rate</th>\n",
       "      <th>temp_of_extremities</th>\n",
       "      <th>peripheral_pulse</th>\n",
       "      <th>mucous_membrane</th>\n",
       "      <th>capillary_refill_time</th>\n",
       "      <th>...</th>\n",
       "      <th>packed_cell_volume</th>\n",
       "      <th>total_protein</th>\n",
       "      <th>abdomo_appearance</th>\n",
       "      <th>abdomo_protein</th>\n",
       "      <th>surgical_lesion</th>\n",
       "      <th>lesion_1</th>\n",
       "      <th>lesion_2</th>\n",
       "      <th>lesion_3</th>\n",
       "      <th>cp_data</th>\n",
       "      <th>outcome</th>\n",
       "    </tr>\n",
       "    <tr>\n",
       "      <th>id</th>\n",
       "      <th></th>\n",
       "      <th></th>\n",
       "      <th></th>\n",
       "      <th></th>\n",
       "      <th></th>\n",
       "      <th></th>\n",
       "      <th></th>\n",
       "      <th></th>\n",
       "      <th></th>\n",
       "      <th></th>\n",
       "      <th></th>\n",
       "      <th></th>\n",
       "      <th></th>\n",
       "      <th></th>\n",
       "      <th></th>\n",
       "      <th></th>\n",
       "      <th></th>\n",
       "      <th></th>\n",
       "      <th></th>\n",
       "      <th></th>\n",
       "      <th></th>\n",
       "    </tr>\n",
       "  </thead>\n",
       "  <tbody>\n",
       "    <tr>\n",
       "      <th>0</th>\n",
       "      <td>yes</td>\n",
       "      <td>adult</td>\n",
       "      <td>530001</td>\n",
       "      <td>38.1</td>\n",
       "      <td>132.0</td>\n",
       "      <td>24.0</td>\n",
       "      <td>cool</td>\n",
       "      <td>reduced</td>\n",
       "      <td>dark_cyanotic</td>\n",
       "      <td>more_3_sec</td>\n",
       "      <td>...</td>\n",
       "      <td>57.0</td>\n",
       "      <td>8.5</td>\n",
       "      <td>serosanguious</td>\n",
       "      <td>3.4</td>\n",
       "      <td>yes</td>\n",
       "      <td>2209</td>\n",
       "      <td>0</td>\n",
       "      <td>0</td>\n",
       "      <td>no</td>\n",
       "      <td>died</td>\n",
       "    </tr>\n",
       "    <tr>\n",
       "      <th>1</th>\n",
       "      <td>yes</td>\n",
       "      <td>adult</td>\n",
       "      <td>533836</td>\n",
       "      <td>37.5</td>\n",
       "      <td>88.0</td>\n",
       "      <td>12.0</td>\n",
       "      <td>cool</td>\n",
       "      <td>normal</td>\n",
       "      <td>pale_cyanotic</td>\n",
       "      <td>more_3_sec</td>\n",
       "      <td>...</td>\n",
       "      <td>33.0</td>\n",
       "      <td>64.0</td>\n",
       "      <td>serosanguious</td>\n",
       "      <td>2.0</td>\n",
       "      <td>yes</td>\n",
       "      <td>2208</td>\n",
       "      <td>0</td>\n",
       "      <td>0</td>\n",
       "      <td>no</td>\n",
       "      <td>euthanized</td>\n",
       "    </tr>\n",
       "    <tr>\n",
       "      <th>2</th>\n",
       "      <td>yes</td>\n",
       "      <td>adult</td>\n",
       "      <td>529812</td>\n",
       "      <td>38.3</td>\n",
       "      <td>120.0</td>\n",
       "      <td>28.0</td>\n",
       "      <td>cool</td>\n",
       "      <td>reduced</td>\n",
       "      <td>pale_pink</td>\n",
       "      <td>less_3_sec</td>\n",
       "      <td>...</td>\n",
       "      <td>37.0</td>\n",
       "      <td>6.4</td>\n",
       "      <td>serosanguious</td>\n",
       "      <td>3.4</td>\n",
       "      <td>yes</td>\n",
       "      <td>5124</td>\n",
       "      <td>0</td>\n",
       "      <td>0</td>\n",
       "      <td>no</td>\n",
       "      <td>lived</td>\n",
       "    </tr>\n",
       "    <tr>\n",
       "      <th>3</th>\n",
       "      <td>yes</td>\n",
       "      <td>adult</td>\n",
       "      <td>5262541</td>\n",
       "      <td>37.1</td>\n",
       "      <td>72.0</td>\n",
       "      <td>30.0</td>\n",
       "      <td>cold</td>\n",
       "      <td>reduced</td>\n",
       "      <td>pale_pink</td>\n",
       "      <td>more_3_sec</td>\n",
       "      <td>...</td>\n",
       "      <td>53.0</td>\n",
       "      <td>7.0</td>\n",
       "      <td>cloudy</td>\n",
       "      <td>3.9</td>\n",
       "      <td>yes</td>\n",
       "      <td>2208</td>\n",
       "      <td>0</td>\n",
       "      <td>0</td>\n",
       "      <td>yes</td>\n",
       "      <td>lived</td>\n",
       "    </tr>\n",
       "    <tr>\n",
       "      <th>4</th>\n",
       "      <td>no</td>\n",
       "      <td>adult</td>\n",
       "      <td>5299629</td>\n",
       "      <td>38.0</td>\n",
       "      <td>52.0</td>\n",
       "      <td>48.0</td>\n",
       "      <td>normal</td>\n",
       "      <td>normal</td>\n",
       "      <td>normal_pink</td>\n",
       "      <td>less_3_sec</td>\n",
       "      <td>...</td>\n",
       "      <td>47.0</td>\n",
       "      <td>7.3</td>\n",
       "      <td>cloudy</td>\n",
       "      <td>2.6</td>\n",
       "      <td>no</td>\n",
       "      <td>0</td>\n",
       "      <td>0</td>\n",
       "      <td>0</td>\n",
       "      <td>yes</td>\n",
       "      <td>lived</td>\n",
       "    </tr>\n",
       "  </tbody>\n",
       "</table>\n",
       "<p>5 rows × 28 columns</p>\n",
       "</div>"
      ],
      "text/plain": [
       "   surgery    age  hospital_number  rectal_temp  pulse  respiratory_rate  \\\n",
       "id                                                                         \n",
       "0      yes  adult           530001         38.1  132.0              24.0   \n",
       "1      yes  adult           533836         37.5   88.0              12.0   \n",
       "2      yes  adult           529812         38.3  120.0              28.0   \n",
       "3      yes  adult          5262541         37.1   72.0              30.0   \n",
       "4       no  adult          5299629         38.0   52.0              48.0   \n",
       "\n",
       "   temp_of_extremities peripheral_pulse mucous_membrane capillary_refill_time  \\\n",
       "id                                                                              \n",
       "0                 cool          reduced   dark_cyanotic            more_3_sec   \n",
       "1                 cool           normal   pale_cyanotic            more_3_sec   \n",
       "2                 cool          reduced       pale_pink            less_3_sec   \n",
       "3                 cold          reduced       pale_pink            more_3_sec   \n",
       "4               normal           normal     normal_pink            less_3_sec   \n",
       "\n",
       "    ... packed_cell_volume total_protein abdomo_appearance abdomo_protein  \\\n",
       "id  ...                                                                     \n",
       "0   ...               57.0           8.5     serosanguious            3.4   \n",
       "1   ...               33.0          64.0     serosanguious            2.0   \n",
       "2   ...               37.0           6.4     serosanguious            3.4   \n",
       "3   ...               53.0           7.0            cloudy            3.9   \n",
       "4   ...               47.0           7.3            cloudy            2.6   \n",
       "\n",
       "   surgical_lesion  lesion_1 lesion_2 lesion_3  cp_data     outcome  \n",
       "id                                                                   \n",
       "0              yes      2209        0        0       no        died  \n",
       "1              yes      2208        0        0       no  euthanized  \n",
       "2              yes      5124        0        0       no       lived  \n",
       "3              yes      2208        0        0      yes       lived  \n",
       "4               no         0        0        0      yes       lived  \n",
       "\n",
       "[5 rows x 28 columns]"
      ]
     },
     "execution_count": 3,
     "metadata": {},
     "output_type": "execute_result"
    }
   ],
   "source": [
    "df = pd.read_csv(TRAIN_PATH, index_col='id')\n",
    "test_df = pd.read_csv(TEST_PATH, index_col='id')\n",
    "df.head()"
   ]
  },
  {
   "cell_type": "code",
   "execution_count": 4,
   "metadata": {},
   "outputs": [],
   "source": [
    "CAT_COLS = [col for col in df.columns if df[col].dtype == 'object']\n",
    "NUM_COLS = [col for col in df.columns if col not in CAT_COLS]\n",
    "\n",
    "df[CAT_COLS] = df[CAT_COLS].fillna(\"no_value\")\n",
    "test_df[CAT_COLS] = df[CAT_COLS].fillna(\"no value\")\n",
    "\n",
    "df[\"hospital_number\"] = df[\"hospital_number\"].astype(\"str\")\n",
    "test_df[\"hospital_number\"] = test_df[\"hospital_number\"].astype(\"str\")"
   ]
  },
  {
   "cell_type": "code",
   "execution_count": 5,
   "metadata": {},
   "outputs": [],
   "source": [
    "CAT_COLS = [col for col in df.columns if df[col].dtype == 'object']\n",
    "NUM_COLS = [col for col in df.columns if col not in CAT_COLS]\n",
    "\n",
    "for col in NUM_COLS:\n",
    "    df[col] = df[col].apply(lambda x: np.cbrt(x))\n",
    "    test_df[col] = test_df[col].apply(lambda x: np.cbrt(x))"
   ]
  },
  {
   "cell_type": "code",
   "execution_count": 6,
   "metadata": {},
   "outputs": [],
   "source": [
    "y = df[\"outcome\"]\n",
    "X = df.copy().drop(\"outcome\", axis=1)"
   ]
  },
  {
   "cell_type": "code",
   "execution_count": 7,
   "metadata": {},
   "outputs": [],
   "source": [
    "CAT_COLS = [col for col in X.columns if df[col].dtype == 'object']\n",
    "NUM_COLS = [col for col in X.columns if col not in CAT_COLS]"
   ]
  },
  {
   "cell_type": "code",
   "execution_count": 8,
   "metadata": {},
   "outputs": [],
   "source": [
    "onehot_encoder = OneHotEncoder(sparse_output=False, handle_unknown=\"infrequent_if_exist\")\n",
    "X_cat = onehot_encoder.fit_transform(X[CAT_COLS])\n",
    "X = np.concatenate([X[NUM_COLS], X_cat], axis=1)\n",
    "X_test_cat = onehot_encoder.transform(test_df[CAT_COLS])\n",
    "X_test = np.concatenate([test_df[NUM_COLS], X_test_cat], axis=1)\n",
    "\n",
    "label_encoder = LabelEncoder()\n",
    "y = label_encoder.fit_transform(y)"
   ]
  },
  {
   "cell_type": "code",
   "execution_count": 9,
   "metadata": {},
   "outputs": [],
   "source": [
    "scaler = RobustScaler()\n",
    "X = scaler.fit_transform(X)\n",
    "X_test = scaler.fit_transform(X_test)"
   ]
  },
  {
   "cell_type": "code",
   "execution_count": 10,
   "metadata": {},
   "outputs": [],
   "source": [
    "X = torch.from_numpy(X).float()\n",
    "X_test_df = torch.from_numpy(X_test).float()\n",
    "y = torch.from_numpy(y).long()"
   ]
  },
  {
   "cell_type": "code",
   "execution_count": 11,
   "metadata": {},
   "outputs": [],
   "source": [
    "X_train, X_test, y_train, y_test = train_test_split(X, y, test_size=0.1, random_state=42)"
   ]
  },
  {
   "cell_type": "code",
   "execution_count": 12,
   "metadata": {},
   "outputs": [],
   "source": [
    "model = nn.Sequential(\n",
    "    nn.Linear(in_features = 337, out_features = 512),\n",
    "    nn.Mish(),\n",
    "    nn.Linear(in_features = 512, out_features = 256),\n",
    "    nn.BatchNorm1d(num_features=256),\n",
    "    nn.Dropout(p=0.5),\n",
    "\n",
    "    nn.Linear(in_features = 256, out_features = 512),\n",
    "    nn.Mish(),\n",
    "    nn.Linear(in_features = 512, out_features = 256),\n",
    "    nn.BatchNorm1d(num_features=256),\n",
    "    nn.Dropout(p=0.5),\n",
    "\n",
    "    nn.Linear(in_features = 256, out_features = 3)\n",
    ")\n",
    "\n",
    "cur_time = datetime.now().today().strftime(\"%d_%m_%Y\")\n",
    "MODEL_SAVE_PATH = f\"models\\horse_health_model_{cur_time}.pth\""
   ]
  },
  {
   "cell_type": "code",
   "execution_count": 13,
   "metadata": {},
   "outputs": [],
   "source": [
    "if PRETRAINED:\n",
    "    model.load_state_dict(torch.load(PRETRAINED), strict=False)"
   ]
  },
  {
   "cell_type": "code",
   "execution_count": 14,
   "metadata": {},
   "outputs": [
    {
     "name": "stdout",
     "output_type": "stream",
     "text": [
      "Epoch 0: Train_loss: 1.34605, Test_loss: 1.06057 | Train_f1: 0.31053, Test_f1: 0.48387\n",
      "Epoch 10: Train_loss: 0.76524, Test_loss: 0.98884 | Train_f1: 0.69577, Test_f1: 0.58065\n",
      "Epoch 20: Train_loss: 0.58825, Test_loss: 0.85826 | Train_f1: 0.78668, Test_f1: 0.57258\n",
      "Epoch 30: Train_loss: 0.48894, Test_loss: 0.84844 | Train_f1: 0.82538, Test_f1: 0.62097\n",
      "Epoch 40: Train_loss: 0.40095, Test_loss: 1.01266 | Train_f1: 0.84788, Test_f1: 0.57258\n",
      "Epoch 50: Train_loss: 0.31306, Test_loss: 1.32102 | Train_f1: 0.87399, Test_f1: 0.58065\n",
      "Epoch 60: Train_loss: 0.26439, Test_loss: 1.71319 | Train_f1: 0.90009, Test_f1: 0.55645\n",
      "Epoch 70: Train_loss: 0.21487, Test_loss: 2.01834 | Train_f1: 0.91449, Test_f1: 0.58065\n",
      "Epoch 80: Train_loss: 0.16796, Test_loss: 2.23723 | Train_f1: 0.93699, Test_f1: 0.58065\n",
      "Epoch 90: Train_loss: 0.11095, Test_loss: 2.29612 | Train_f1: 0.95410, Test_f1: 0.56452\n",
      "Epoch 100: Train_loss: 0.08416, Test_loss: 2.49353 | Train_f1: 0.97300, Test_f1: 0.57258\n",
      "Epoch 110: Train_loss: 0.06043, Test_loss: 2.66884 | Train_f1: 0.98650, Test_f1: 0.55645\n",
      "Epoch 120: Train_loss: 0.05715, Test_loss: 3.08434 | Train_f1: 0.98290, Test_f1: 0.50000\n",
      "Epoch 130: Train_loss: 0.03265, Test_loss: 3.11635 | Train_f1: 0.99460, Test_f1: 0.52419\n",
      "Epoch 140: Train_loss: 0.04010, Test_loss: 3.35192 | Train_f1: 0.99010, Test_f1: 0.53226\n",
      "Epoch 150: Train_loss: 0.03219, Test_loss: 3.32554 | Train_f1: 0.99010, Test_f1: 0.54839\n",
      "Epoch 160: Train_loss: 0.02513, Test_loss: 3.62693 | Train_f1: 0.99370, Test_f1: 0.55645\n",
      "Epoch 170: Train_loss: 0.02022, Test_loss: 3.66909 | Train_f1: 0.99190, Test_f1: 0.55645\n",
      "Epoch 180: Train_loss: 0.01802, Test_loss: 3.75610 | Train_f1: 0.99460, Test_f1: 0.54839\n",
      "Epoch 190: Train_loss: 0.01757, Test_loss: 3.83264 | Train_f1: 0.99460, Test_f1: 0.56452\n"
     ]
    }
   ],
   "source": [
    "loss_fn = nn.CrossEntropyLoss()\n",
    "optimizer = torch.optim.Adam(model.parameters(), lr=1e-3, weight_decay=1e-4)\n",
    "\n",
    "def f1_fn(y_logits, y_true):\n",
    "    y_pred = torch.argmax(y_logits, dim=1).detach().cpu().numpy()\n",
    "    y_true = y_true.detach().cpu().numpy()\n",
    "    f1 = f1_score(y_true, y_pred, average='micro')\n",
    "    return f1\n",
    "\n",
    "epochs = 200\n",
    "epoch_count = []\n",
    "train_loss_value = []\n",
    "test_loss_value = []\n",
    "for epoch in range(epochs):\n",
    "    model.train()\n",
    "    y_logits = model(X_train).squeeze()\n",
    "\n",
    "    loss = loss_fn(y_logits, y_train)\n",
    "    acc = f1_fn(y_logits, y_train)\n",
    "    train_loss_value.append(loss)\n",
    "    optimizer.zero_grad()\n",
    "    loss.backward()\n",
    "    optimizer.step()                     \n",
    "    model.eval()\n",
    "    with torch.inference_mode():\n",
    "        test_logits = model(X_test).squeeze()\n",
    "        test_pred = torch.round(torch.sigmoid(test_logits))\n",
    "        test_loss = loss_fn(test_logits, y_test)\n",
    "        test_acc = f1_fn(test_pred, y_test)\n",
    "        test_loss_value.append(test_loss)\n",
    "    if epoch % 10 == 0:\n",
    "        print\n",
    "        print(f\"Epoch {epoch}: Train_loss: {loss:.5f}, Test_loss: {test_loss:.5f} | Train_f1: {acc:.5f}, Test_f1: {test_acc:.5f}\")"
   ]
  },
  {
   "cell_type": "code",
   "execution_count": 15,
   "metadata": {},
   "outputs": [],
   "source": [
    "torch.save(obj = model.state_dict(), f=MODEL_SAVE_PATH)"
   ]
  },
  {
   "cell_type": "code",
   "execution_count": 16,
   "metadata": {},
   "outputs": [],
   "source": [
    "model.eval()\n",
    "\n",
    "with torch.no_grad():\n",
    "    y_test_logits = model(X_test_df)\n",
    "\n",
    "y_test_probabilities = torch.softmax(y_test_logits, dim=1)\n",
    "_, y_test_pred = torch.max(y_test_probabilities, 1)\n"
   ]
  },
  {
   "cell_type": "code",
   "execution_count": 17,
   "metadata": {},
   "outputs": [
    {
     "data": {
      "text/plain": [
       "array(['died', 'euthanized', 'lived'], dtype=object)"
      ]
     },
     "execution_count": 17,
     "metadata": {},
     "output_type": "execute_result"
    }
   ],
   "source": [
    "label_encoder.classes_"
   ]
  },
  {
   "cell_type": "code",
   "execution_count": 18,
   "metadata": {},
   "outputs": [],
   "source": [
    "submission = pd.DataFrame()\n",
    "submission[\"id\"] = test_df.index\n",
    "submission[\"outcome\"] = label_encoder.inverse_transform(y_test_pred)"
   ]
  },
  {
   "cell_type": "code",
   "execution_count": 19,
   "metadata": {},
   "outputs": [],
   "source": [
    "submission.to_csv(\"submission.csv\", index=False)"
   ]
  }
 ],
 "metadata": {
  "kernelspec": {
   "display_name": "Python 3",
   "language": "python",
   "name": "python3"
  },
  "language_info": {
   "codemirror_mode": {
    "name": "ipython",
    "version": 3
   },
   "file_extension": ".py",
   "mimetype": "text/x-python",
   "name": "python",
   "nbconvert_exporter": "python",
   "pygments_lexer": "ipython3",
   "version": "3.10.11"
  }
 },
 "nbformat": 4,
 "nbformat_minor": 2
}
