{
 "cells": [
  {
   "cell_type": "code",
   "execution_count": 16,
   "metadata": {},
   "outputs": [
    {
     "name": "stdout",
     "output_type": "stream",
     "text": [
      "tensor([[[[0.2072],\n",
      "          [0.8235],\n",
      "          [0.5270]],\n",
      "\n",
      "         [[0.7771],\n",
      "          [0.9213],\n",
      "          [0.8943]]]])\n",
      "tensor([[0.2072, 0.8235, 0.5270],\n",
      "        [0.7771, 0.9213, 0.8943]])\n"
     ]
    }
   ],
   "source": [
    "import torch\n",
    "x = torch.rand((1,2,3,1))\n",
    "print(x)\n",
    "y = x.squeeze()\n",
    "print(y)"
   ]
  }
 ],
 "metadata": {
  "kernelspec": {
   "display_name": "Python 3",
   "language": "python",
   "name": "python3"
  },
  "language_info": {
   "codemirror_mode": {
    "name": "ipython",
    "version": 3
   },
   "file_extension": ".py",
   "mimetype": "text/x-python",
   "name": "python",
   "nbconvert_exporter": "python",
   "pygments_lexer": "ipython3",
   "version": "3.10.11"
  }
 },
 "nbformat": 4,
 "nbformat_minor": 2
}
